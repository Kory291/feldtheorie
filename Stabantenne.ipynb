{
 "cells": [
  {
   "cell_type": "markdown",
   "metadata": {
    "collapsed": false
   },
   "source": [
    "# Stabantenne\n",
    "**Team B: Lucas & Lukas**"
   ]
  },
  {
   "cell_type": "markdown",
   "metadata": {
    "collapsed": false
   },
   "source": [
    "Es soll das elektrische Feld eines geladenen Leiters untersucht werden."
   ]
  },
  {
   "cell_type": "markdown",
   "metadata": {
    "collapsed": false
   },
   "source": [
    "### Imports"
   ]
  },
  {
   "cell_type": "code",
   "execution_count": null,
   "metadata": {
    "collapsed": false
   },
   "outputs": [],
   "source": [
    "# imports\n",
    "import numpy as np\n",
    "from matplotlib import pyplot as plt\n",
    "import matplotlib as mplt\n",
    "from matplotlib import animation"
   ]
  },
  {
   "cell_type": "markdown",
   "metadata": {
    "collapsed": false
   },
   "source": [
    "## Grundlagen\n"
   ]
  },
  {
   "cell_type": "markdown",
   "metadata": {
    "collapsed": false
   },
   "source": [
    "Herleitung der allgemeinen Lösungsformel für das elektrische Potential bzw. $\\vec E$\\-Feld aus den Maxwellgleichungen.\n",
    "\n",
    "Die Maxwell-Gleichungen der Elektrostatik lauten:\n",
    "$$\n",
    "\tdiv(\\vec E) = \\frac{\\varrho}{\\varepsilon} \\Leftrightarrow \\oiint \\vec E \\ d\\vec A = \\frac{Q}{\\varepsilon}\\\\\n",
    "\trot(\\vec E) = \\vec 0 \\Leftrightarrow \\oint \\vec E \\ d\\vec A = \\vec 0\n",
    "$$\n"
   ]
  },
  {
   "cell_type": "markdown",
   "metadata": {
    "collapsed": false
   },
   "source": [
    "### Konstanten"
   ]
  },
  {
   "cell_type": "code",
   "execution_count": null,
   "metadata": {
    "collapsed": false
   },
   "outputs": [],
   "source": [
    "L = 1  # Länge der Antenne [m]\n",
    "epsilon_0 = 8.8542e-12  # elektrische Feldkonstante in [A s / V m]\n",
    "N = 2**6\n",
    "lmbda = 1 # Linienladungsdichte auf der Antenne in [A s / m]\n",
    "c = 3*10**8 # Lichgeschwindigkeit [m/s]"
   ]
  },
  {
   "cell_type": "markdown",
   "metadata": {
    "collapsed": false
   },
   "source": [
    "## Analytischer Fall"
   ]
  },
  {
   "cell_type": "markdown",
   "metadata": {
    "collapsed": false
   },
   "source": [
    "### Vereinfachende Annahmen\n",
    "* Vakuum\n",
    "* endlich langer Leiter\n",
    "* gerader Leiter\n",
    "* unendlich dünner Leiter\n",
    "* konstante (Linien-)Ladungsdichte"
   ]
  },
  {
   "cell_type": "markdown",
   "metadata": {
    "collapsed": false
   },
   "source": [
    "### Parameter\n",
    "$\\lambda$ ... konstante Linienstromdichte    \n",
    "L ... Länge der Antenne"
   ]
  },
  {
   "cell_type": "markdown",
   "metadata": {
    "collapsed": false
   },
   "source": [
    "### Analytische Lösung\n"
   ]
  },
  {
   "cell_type": "markdown",
   "metadata": {
    "collapsed": false
   },
   "source": [
    "Herleitung der analytischen Lösung aus der allgemeinen Lösungsformel\n",
    "\n"
   ]
  },
  {
   "cell_type": "markdown",
   "metadata": {
    "collapsed": false
   },
   "source": [
    "#### Elektrisches Potenzial"
   ]
  },
  {
   "cell_type": "markdown",
   "metadata": {
    "collapsed": false
   },
   "source": [
    "$$\n",
    "\tU(\\vec r) = \\frac{1}{4\\pi\\varepsilon_0} \\int \\int \\int \\frac{\\varrho(\\vec r')}{|\\vec r - \\vec r'|} d^3\\vec r'\n",
    "$$\n",
    "\n",
    "Dabei gilt:\n",
    "$$\\vec r = \\begin{pmatrix}\n",
    "\t\tx \\\\\n",
    "\t\ty \\\\\n",
    "\t\tz \\\\\n",
    "\t\\end{pmatrix}\n",
    "\t\\qquad\n",
    "\t\\vec r' = \\begin{pmatrix}\n",
    "\t\tx' \\\\\n",
    "\t\ty' \\\\\n",
    "\t\tz' \\\\\n",
    "\t\\end{pmatrix}$$\n",
    "Für $\\frac{-L}{2} <= z <= \\frac{L}{2}$ gilt:\n",
    "$$\n",
    "\t\\varrho(\\vec r') = \\lambda \\delta(x') \\delta(y')\n",
    "$$\n",
    "Mit 0 sonst.\n",
    "Damit können wir den Zähler ersetzen:\n",
    "$$\n",
    "    U(\\vec r) = \\frac{1}{4\\pi\\varepsilon_0} \\int_{-L/2}^{L/2} \\int_{-\\infty}^{\\infty} \\int_{-\\infty}^{\\infty} \\frac{\\lambda \\delta(x') \\delta(y')}{\\sqrt{(x-x')^2 + (y-y')^2 + (z-z')^2}} dx' dy' dz'\n",
    "$$\n",
    "\n",
    "Mit der Definition des Diracs $f(x) = \\int_{-\\infty}^{\\infty} f(x') \\delta(x'-x)dx'$ fällt das Integral raus.\n",
    "\n",
    "$$\n",
    "    = \\frac{1}{4\\pi\\varepsilon_0} \\int_{-L/2}^{L/2} \\int_{-\\infty}^{\\infty} \\frac{\\lambda \\delta(y')}{\\sqrt{x^2 + (y-y')^2 + (z-z')^2}} dy' dz'\n",
    "$$\n",
    "\n",
    "Mit der Definition des Diracs $f(y) = \\int_{-\\infty}^{\\infty} f(y') \\delta(y'-y)dy'$ fällt das Integral raus.\n",
    "\n",
    "$$\n",
    "    = \\frac{1}{4\\pi\\varepsilon_0} \\int_{-L/2}^{L/2} \\frac{\\lambda}{\\sqrt{x^2 + y^2 + (z-z')^2}} dz' \\\\\n",
    "    = \\frac{\\lambda}{4\\pi\\varepsilon_0} \\int_{-L/2}^{L/2} \\frac{1}{\\sqrt{x^2 + y^2 + (z-z')^2}} dz'\n",
    "$$\n",
    "\n",
    "Um das Integral jetzt zu lösen, substituieren wir zweimal. Das erste mal mit $s := z-z'$. Damit ist $dz'=-ds$. Die zweite Substituierung erfolgt mit $\\varrho^2 := x^2+y^2$.\n",
    "\n",
    "$$\n",
    "\t= -\\frac{\\lambda}{4\\pi\\varepsilon_0} \\int_{z+L/2}^{z-L/2} \\frac{1}{\\sqrt{\\varrho^2+s^2}} ds \\\\\n",
    "    = \\frac{\\lambda}{4\\pi\\varepsilon_0} \\int_{z-L/2}^{z+L/2} \\frac{1}{\\sqrt{\\varrho^2+s^2}} ds\n",
    "$$\n",
    "\n",
    "Hier löst Wolframalpha das Integral auf. Wir erhalten damit dann:\n",
    "\n",
    "$$\n",
    "\t= \\frac{\\lambda}{4\\pi\\varepsilon_0} \\cdot \\left[\\frac{1}{2} \\ln\\left(\\frac{\\sqrt{s^2+\\varrho^2} + s}{\\sqrt{s^2+\\varrho^2} - s}\\right) \\right]_{s=z-L/2}^{s=z+L/2} \n",
    "$$\n",
    "\n",
    "Mit der Definition $arsinh(x)=\\ln\\left({x+\\sqrt{x^2+1}}\\right)$ können wir den Lograithmus umformen.\n",
    "\n",
    "$$\n",
    "\t= \\frac{\\lambda}{8\\pi\\varepsilon_0} \\cdot \\left[\\ln\\left(\\frac{\\sqrt{\\left(\\frac{s}{\\varrho}\\right)^2+1} + \\frac{s}{\\varrho}}{\\sqrt{\\left(\\frac{s}{\\varrho}\\right)^2+1} - \\frac{s}{\\varrho}}\\right) \\right]_{s=z-L/2}^{s=z+L/2}\n",
    "$$\n",
    "\n",
    "Wenn wir jetzt mit $\\sqrt{\\left(\\frac{s}{\\varrho}\\right)^2+1} + \\frac{s}{\\varrho}$ erweitern erhalten wir:\n",
    "\n",
    "$$\n",
    " \t= \\frac{\\lambda}{8\\pi\\varepsilon_0} \\cdot \\left[\\ln\\left(\\frac{\\left(\\sqrt{\\left(\\frac{s}{\\varrho}\\right)^2+1} + \\frac{s}{\\varrho}\\right)^2}{\\left(\\sqrt{\\left(\\frac{s}{\\varrho}\\right)^2+1} - \\frac{s}{\\varrho}\\right) \\cdot \\left(\\sqrt{\\left(\\frac{s}{\\varrho}\\right)^2+1} + \\frac{s}{\\varrho}\\right)}\\right) \\right]_{s=z-L/2}^{s=z+L/2} \\\\\n",
    "\t= \\frac{\\lambda}{8\\pi\\varepsilon_0} \\cdot \\left[\\ln\\left(\\frac{\\left(\\sqrt{\\left(\\frac{s}{\\varrho}\\right)^2+1} + \\frac{s}{\\varrho}\\right)^2}{\\left(\\frac{s}{\\varrho}\\right)^2 + 1 -\\left(\\frac{s}{\\varrho}\\right)^2}\\right) \\right]_{s=z-L/2}^{s=z+L/2} \\\\\n",
    "    = \\frac{\\lambda}{8\\pi\\varepsilon_0} \\cdot \\left[\\ln\\left(\\sqrt{\\left(\\frac{s}{\\varrho}\\right)^2 + 1} + \\frac{s}{\\varrho}\\right)^2\\right]_{s=z-L/2}^{s=z+L/2} \\\\\n",
    "    = \\frac{\\lambda}{4\\pi\\varepsilon_0} \\cdot \\left[\\ln\\left(\\sqrt{\\left(\\frac{s}{\\varrho}\\right)^2 + 1} + \\frac{s}{\\varrho}\\right)\\right]_{s=z-L/2}^{s=z+L/2}\n",
    "$$\n",
    "\n",
    "Jetzt können wir die oben genannte Definition $arsinh(x)=\\ln\\left({x+\\sqrt{x^2+1}}\\right)$ anwenden.\n",
    "\n",
    "$$\n",
    "= \\frac{\\lambda}{4\\pi\\varepsilon_0} \\cdot \\left[\\operatorname{arsinh}\\left(\\frac{s}{\\varrho}\\right)\\right]_{s=z-L/2}^{s=z+L/2}\n",
    "$$\n",
    "\n",
    "Wenn wir die Integralgrenzen einsetzen und $\\varrho^2 = x^2+y^2$ wieder zurück substituieren erhalten wir:\n",
    "\n",
    "$$\n",
    "\tU(\\vec r) = \\frac{\\lambda}{4\\pi\\varepsilon_0} \\cdot \\left(arsinh\\left(\\frac{z+\\frac{L}{2}}{\\varrho}\\right)-arsinh\\left(\\frac{z-\\frac{L}{2}}{\\varrho}\\right)\\right) \\\\\n",
    "    U(\\vec r) = \\frac{\\lambda}{4\\pi\\varepsilon_0} \\cdot \\left(arsinh\\left(\\frac{z+\\frac{L}{2}}{\\sqrt{x^2+y^2}}\\right)-arsinh\\left(\\frac{z-\\frac{L}{2}}{\\sqrt{x^2+y^2}}\\right)\\right)\n",
    "$$\n",
    "\n"
   ]
  },
  {
   "cell_type": "code",
   "execution_count": null,
   "metadata": {
    "collapsed": false
   },
   "outputs": [],
   "source": [
    "#konstanter Faktor 1/4*pi*epsilon_0\n",
    "faktor = 1 / (4*np.pi * epsilon_0)"
   ]
  },
  {
   "cell_type": "code",
   "execution_count": null,
   "metadata": {
    "collapsed": false
   },
   "outputs": [],
   "source": [
    "#Visualisierung des Elektrischen Potentials einer Antenne mit variabler Länge l auf dem Einheitskreis in der x-y-Ebene bei z=0\n",
    "\n",
    "#Definitionsbereich von l\n",
    "l = np.linspace(0,1000*L,N)  # KS: Warum nicht -L/2 bis +L/2?\n",
    "                             # LS: Das beschreibt eigentlich nur wie die Länge der Antenne. x als Name ist da etwas untreffend gewesen   \n",
    "\n",
    "# Einfache Ladungsdichte lambda\n",
    "f1 = 2 * faktor * lmbda * np.arcsinh(l/2)\n",
    "\n",
    "#Verdopplung der Ladungsdichte lambda\n",
    "# KS: Das ist nicht weiter spannend, da das Potenzial in der Linienladungsdichte linear ist.\n",
    "f2 = 4 * faktor * lmbda * np.arcsinh(l/2)\n",
    "\n",
    "#pyplot\n",
    "plt.plot(l,f1, label='arsinh')\n",
    "plt.plot(l,f2, label='arsinh mit doppelter Ladungsdichte')\n",
    "plt.xlabel('Länge  der Antenne L')\n",
    "plt.ylabel('Elektrisches Potential')\n",
    "plt.grid()\n",
    "plt.legend()\n",
    "plt.title('Elektrisches Potential einer Antenne für z=0 und $x^2+y^2=1$')\n",
    "plt.show()"
   ]
  },
  {
   "cell_type": "markdown",
   "metadata": {
    "collapsed": false
   },
   "source": [
    "##### Berechnungen mit dem langen Integral\n",
    "\n"
   ]
  },
  {
   "cell_type": "code",
   "execution_count": null,
   "metadata": {
    "collapsed": false
   },
   "outputs": [],
   "source": [
    "#Potential z-Achse in einem Radius um die Antenne\n",
    "bound = 1\n",
    "z = np.linspace(-bound, bound, N)\n",
    "radius = 1\n",
    "rho = radius\n",
    "rho_quadrat = radius**2\n",
    "\n",
    "potential_z = faktor * lmbda * (np.arcsinh((z+L/2)/rho) - np.arcsinh((z-L/2)/rho))\n",
    "\n",
    "plt.plot(z,potential_z,label='kurz')\n",
    "plt.xlabel('z')\n",
    "plt.ylabel('Elektrisches Potential')\n",
    "plt.grid()\n",
    "plt.legend()\n",
    "plt.title('Elektrisches Potential einer Antenne in Abhängigkeit der z-Koordinate')\n",
    "plt.show()"
   ]
  },
  {
   "cell_type": "markdown",
   "metadata": {
    "collapsed": false
   },
   "source": [
    "##### Günstigere Rechnung unter Nutzung der Symmetrie"
   ]
  },
  {
   "cell_type": "code",
   "execution_count": null,
   "metadata": {
    "collapsed": false
   },
   "outputs": [],
   "source": [
    "#Ersetzen von x und y mit rho -> Darstellung in Zylinderkoordinaten mit z und rho, unabhängig vom Winkel phi\n",
    "rho_range = np.linspace(0, L, N)#.reshape(1, -1)\n",
    "z_range = np.linspace(-L, L, N)#.reshape(-1, 1)\n",
    "\n",
    "rho, z = np.meshgrid(rho_range, z_range)\n",
    "\n",
    "U = lmbda * faktor * (np.arcsinh((z+L/2)/np.abs(rho)) - np.arcsinh((z-L/2)/np.abs(rho)))\n",
    "plt.imshow(U)\n",
    "plt.colorbar()"
   ]
  },
  {
   "cell_type": "markdown",
   "metadata": {
    "collapsed": false
   },
   "source": [
    "#### Elektrisches Feld"
   ]
  },
  {
   "cell_type": "markdown",
   "metadata": {
    "collapsed": false
   },
   "source": [
    "<span class=\"user-mention\" account-id=12766f2d-fb08-46f1-b44a-6ef0493b8688>@Konrad Schöbel</span> **Vorsicht!:** Die Komponenten des Gradienten sind nur in kartesischen Koordinaten die partiellen Ableitungen nach den Koordinaten.  In anderen Koordinaten gilt das nicht.\n",
    "\n",
    "<span class=\"user-mention\" account-id=8afc2cd4-a17a-464f-b048-069ae358a6d9>@Lukas Schäfer</span> Angepasst für Zylinderkoordinaten.\n"
   ]
  },
  {
   "cell_type": "markdown",
   "metadata": {
    "collapsed": false
   },
   "source": [
    "Der Zusammenhang zwischen dem elektrischen Potential und der elektrischen Feldstärke lässt sich über\n",
    "$$\n",
    "\t\\vec{E}(\\vec{r}) = -\\vec{\\nabla} U(\\vec{r})\n",
    "$$beschreiben.\n",
    "\n",
    "Der Gradient der Funktion $U(\\vec{r})$ in Zylinderkoordinaten ergibt sich:\n",
    "$$\n",
    "\t\\vec{\\nabla} U(\\vec{r}) = \n",
    "\t\t\\begin{pmatrix} \n",
    "\t\t\t\\frac{dU(\\vec{r})}{d\\varrho} \\\\\n",
    "\t\t\t\\frac{1}{\\varrho}\\frac{dU(\\vec{r})}{d\\varphi} \\\\\n",
    "\t\t\t\\frac{dU(\\vec{r})}{dz}\n",
    "\t\t\\end{pmatrix}\n",
    "$$\n",
    "\n",
    "Wir leiten $U(\\vec{r})$ zunächst die erste Komponente nach $\\varrho$ ab:\n",
    "$$\n",
    "\t\\frac{dU(\\vec r)}{d\\varrho} \n",
    "\t= \\frac{d}{d\\varrho}\\frac{\\lambda}{4\\pi\\varepsilon_0} \\cdot \\left(arsinh\\left(\\frac{z+\\frac{L}{2}}{\\varrho}\\right)-arsinh\\left(\\frac{z-\\frac{L}{2}}{\\varrho}\\right)\\right) \\\\\\\n",
    "\t= -\\frac{\\lambda}{4\\pi\\varepsilon_0}\\cdot\\left[\\frac{\\frac{L}{2} + z}{\\varrho^2 \\sqrt{1 + \\left(\\frac{\\frac{L}{2} + z}{\\varrho}\\right)^2}}-\\frac{\\frac{L}{2} - z}{\\varrho^2 \\sqrt{1 + \\left(\\frac{z-\\frac{L}{2}}{\\varrho}\\right)^2}}\\right] = -E_{\\varrho}\n",
    "$$\n",
    "Da unsere Funktion nicht von $\\varphi$ abhängt, wird die zweite Komponente 0.\n",
    "\n",
    "Dann leiten wir noch die dritte Komponente nach z ab.\n",
    "$$\n",
    "\t\\frac{dU(\\vec r)}{dz} \n",
    "\t= \\frac{d}{dz}\\frac{\\lambda}{4\\pi\\varepsilon_0} \\cdot \\left(arsinh\\left(\\frac{z+\\frac{L}{2}}{\\varrho}\\right)-arsinh\\left(\\frac{z-\\frac{L}{2}}{\\varrho}\\right)\\right) \\\\\n",
    "\t= \\frac{\\lambda}{4\\pi\\varepsilon_0}\\cdot\\left[\\frac{1}{\\varrho \\sqrt{1 + \\left(\\frac{\\frac{L}{2} + z}{\\varrho}\\right)^2}}-\\frac{1}{\\varrho \\sqrt{1 + \\left(\\frac{z-\\frac{L}{2}}{\\varrho}\\right)^2}}\\right] = -E_{z}\n",
    "$$\n",
    "\n",
    "Damit erhalten wir für das elektrische Feld:\n",
    "$$\\vec{\\nabla} U(\\vec{r}) = \n",
    "\t\t\\begin{pmatrix} \n",
    "\t\t\t\\frac{dU(\\vec{r})}{d\\varrho} \\\\\n",
    "\t\t\t\\frac{1}{\\varrho}\\frac{dU(\\vec{r})}{d\\varphi} \\\\\n",
    "\t\t\t\\frac{dU(\\vec{r})}{dz}\n",
    "\t\t\\end{pmatrix} = \\begin{pmatrix}\n",
    "        \tE_{\\varrho} \\\\\n",
    "            0 \\\\\n",
    "            E_{z}\n",
    "        \\end{pmatrix}$$\n"
   ]
  },
  {
   "cell_type": "code",
   "execution_count": null,
   "metadata": {
    "collapsed": false
   },
   "outputs": [],
   "source": [
    "E_rho = lmbda * faktor * (rho*(L/2+z)/(np.abs(rho)**3*np.sqrt(1+((L/2+z)/rho)**2)) - rho*(z-L/2)/(np.abs(rho)**3*np.sqrt(1+((z-L/2)/rho)**2)))\n",
    "E_z = -lmbda * faktor * (2/np.sqrt((L+2*z)**2+4*rho**2)-2/np.sqrt((L-2*z)**2+4*rho**2))"
   ]
  },
  {
   "cell_type": "code",
   "execution_count": null,
   "metadata": {
    "collapsed": false
   },
   "outputs": [],
   "source": [
    "fig = plt.figure()\n",
    "ax = fig.add_subplot()\n",
    "color_plot = plt.contour(rho, z, U, cmap=\"magma\", linewidths=2, levels=10)\n",
    "ax.streamplot(rho, z, E_rho, E_z, linewidth=1, cmap=plt.cm.inferno,\n",
    "              density=3, arrowstyle='->', arrowsize=1.5, color=np.log(np.sqrt(E_rho**2 + E_z**2)))\n",
    "ax.plot([0, 0], [-L/2, L/2], color=\"red\")\n",
    "plt.colorbar(color_plot)\n",
    "\n",
    "ax.set_xlabel('$rho$')\n",
    "ax.set_ylabel('$z$')\n",
    "ax.set_xlim(np.min(rho_range), np.max(rho_range))\n",
    "ax.set_ylim(np.min(z_range), np.max(z_range))\n",
    "ax.set_aspect('equal')\n",
    "plt.show()"
   ]
  },
  {
   "cell_type": "markdown",
   "metadata": {
    "collapsed": false
   },
   "source": [
    "### Numerische Berechnung im statischen Fall"
   ]
  },
  {
   "cell_type": "markdown",
   "metadata": {
    "collapsed": false
   },
   "source": [
    "#### Elektrisches Potential"
   ]
  },
  {
   "cell_type": "code",
   "execution_count": null,
   "metadata": {
    "collapsed": false
   },
   "outputs": [],
   "source": [
    "lmbda = 1\n",
    "faktor = 1 / (4*np.pi * epsilon_0)"
   ]
  },
  {
   "cell_type": "markdown",
   "metadata": {
    "collapsed": false
   },
   "source": [
    "<span class=\"user-mention\" account-id=12766f2d-fb08-46f1-b44a-6ef0493b8688>@Konrad Schöbel</span> $\\varrho$ geht eigentlich nur von 0 bis \n"
   ]
  },
  {
   "cell_type": "code",
   "execution_count": null,
   "metadata": {
    "collapsed": false
   },
   "outputs": [],
   "source": [
    "#rho und z neu definieren\n",
    "rho_num = np.linspace(0, L, N).reshape(1,-1,1)\n",
    "z_num = np.linspace(-L, L, N).reshape(-1,1,1)\n",
    "z_ = np.linspace(-L/2, +L/2, N//2).reshape(1,1,-1)\n",
    "\n",
    "#numerische Berechnung für das Potential\n",
    "d = np.sqrt(rho_num**2 + (z_num-z_)**2)\n",
    "integrand = lmbda / d\n",
    "U_num = faktor * np.trapz(integrand, axis=2)\n",
    "# U_num = np.trapz(integrand, axis=2)\n",
    "\n",
    "plt.imshow(U_num)\n",
    "plt.colorbar()"
   ]
  },
  {
   "cell_type": "markdown",
   "metadata": {
    "collapsed": false
   },
   "source": [
    "#### Elektrisches Feld"
   ]
  },
  {
   "cell_type": "code",
   "execution_count": null,
   "metadata": {
    "collapsed": false
   },
   "outputs": [],
   "source": [
    "#Elektrisches Feld berechnen\n",
    "E_rho_num, E_z_num = np.gradient(U_num)\n",
    "E_rho_num = - E_rho_num\n",
    "E_z_num = - E_z_num\n",
    "E_num = np.gradient(U_num)\n",
    "E_num = -1 * E_num"
   ]
  },
  {
   "cell_type": "code",
   "execution_count": null,
   "metadata": {
    "collapsed": false
   },
   "outputs": [],
   "source": [
    "#Darstellung des elektrischen Feldes\n",
    "fig = plt.figure()\n",
    "ax = fig.add_subplot()\n",
    "color_plot = plt.contour(rho_num[0,:,0], z_num[:,0,0], U_num, cmap=\"magma\", linewidths=2, levels=10)\n",
    "ax.streamplot(rho_num[0,:,0], z_num[:,0,0], E_z_num, E_rho_num, linewidth=1, cmap=plt.cm.inferno,\n",
    "              density=3, arrowstyle='->', arrowsize=1.5, color=np.log(np.sqrt(E_rho_num**2 + E_z_num**2)))\n",
    "ax.plot([0, 0], [-L/2, L/2], color=\"red\")\n",
    "plt.colorbar(color_plot)\n",
    "\n",
    "ax.set_xlabel('$rho$')\n",
    "ax.set_ylabel('$z$')\n",
    "ax.set_xlim(np.min(rho_num), np.max(rho_num))\n",
    "ax.set_ylim(np.min(z_num), np.max(z_num))\n",
    "ax.set_aspect('equal')\n",
    "plt.show()"
   ]
  },
  {
   "cell_type": "code",
   "execution_count": null,
   "metadata": {
    "collapsed": false
   },
   "outputs": [],
   "source": [
    "plt.quiver(E_z_num[::4, ::4], E_rho_num[::4, ::4])"
   ]
  },
  {
   "cell_type": "markdown",
   "metadata": {
    "collapsed": false
   },
   "source": [
    "### Numerische Berechnung im dynamischen Fall\n"
   ]
  },
  {
   "cell_type": "markdown",
   "metadata": {
    "collapsed": false
   },
   "source": [
    "#### Elektrisches Potenzial"
   ]
  },
  {
   "cell_type": "code",
   "execution_count": null,
   "metadata": {
    "collapsed": false
   },
   "outputs": [],
   "source": [
    "z = np.linspace(-L, L, N).reshape(-1,1,1, 1)\n",
    "rho = np.linspace(-L, L, N//2).reshape(1,-1,1, 1)\n",
    "z_ = np.linspace(-L/2, +L/2, 2*N).reshape(1,1,-1, 1)\n",
    "t = np.linspace(0, 2*np.pi, N).reshape(1, 1, 1, -1)"
   ]
  },
  {
   "cell_type": "code",
   "execution_count": null,
   "metadata": {
    "collapsed": false
   },
   "outputs": [],
   "source": [
    "lmbda = 1"
   ]
  },
  {
   "cell_type": "code",
   "execution_count": null,
   "metadata": {
    "collapsed": false
   },
   "outputs": [],
   "source": [
    "T = 2*np.pi"
   ]
  },
  {
   "cell_type": "code",
   "execution_count": null,
   "metadata": {
    "collapsed": false
   },
   "outputs": [],
   "source": [
    "d = np.sqrt(rho**2 + (z-z_)**2)"
   ]
  },
  {
   "cell_type": "code",
   "execution_count": null,
   "metadata": {
    "collapsed": false
   },
   "outputs": [],
   "source": [
    "lmbda_dyn = np.sin(2*np.pi*z_/L) * np.sin(2*np.pi * (t-d/c) / T)\n",
    "lmbda_dyn.shape"
   ]
  },
  {
   "cell_type": "code",
   "execution_count": null,
   "metadata": {
    "collapsed": false
   },
   "outputs": [],
   "source": [
    "# lmbda = np.cos(2*np.pi*z_/L) * np.sin(2*np.pi * (t-d/c) / T)\n",
    "# lmbda.shape"
   ]
  },
  {
   "cell_type": "code",
   "execution_count": null,
   "metadata": {
    "collapsed": false
   },
   "outputs": [],
   "source": [
    "integrand = lmbda_dyn / d\n",
    "U_num_dyn = np.trapz(integrand,axis=2)"
   ]
  },
  {
   "cell_type": "code",
   "execution_count": null,
   "metadata": {
    "collapsed": false,
    "scrolled": true
   },
   "outputs": [],
   "source": [
    "plt.imshow(U_num_dyn[:,:,t.shape[-1]//2])\n",
    "plt.colorbar()"
   ]
  },
  {
   "cell_type": "code",
   "execution_count": null,
   "metadata": {
    "collapsed": false
   },
   "outputs": [],
   "source": [
    "fig = plt.figure()\n",
    "\n",
    "def animate(k):\n",
    "    plt.clf()\n",
    "    plt.imshow(U_num_dyn[:, :, k], vmin=np.min(U_num_dyn), vmax=np.max(U_num_dyn), norm=\"symlog\")\n",
    "    plt.colorbar()\n",
    "\n",
    "ani = animation.FuncAnimation(fig, animate, frames=t.shape[-1], interval=200)\n",
    "ani.save('animation_sin.gif', writer='ffmpeg')"
   ]
  },
  {
   "cell_type": "code",
   "execution_count": null,
   "metadata": {
    "collapsed": false
   },
   "outputs": [],
   "source": [
    "plt.imshow(U_num_dyn[:,:,t.shape[-1]//2], norm=\"symlog\")\n",
    "plt.colorbar()"
   ]
  },
  {
   "cell_type": "markdown",
   "metadata": {
    "collapsed": false
   },
   "source": [
    "#### Elektrisches Feld"
   ]
  },
  {
   "cell_type": "code",
   "execution_count": null,
   "metadata": {
    "collapsed": false
   },
   "outputs": [],
   "source": [
    "E_z_dyn, E_rho_dyn = np.gradient(U_num_dyn, axis=(0,1))\n",
    "E_rho_dyn = - E_rho_dyn\n",
    "E_z_dyn = - E_z_dyn"
   ]
  },
  {
   "cell_type": "code",
   "execution_count": null,
   "metadata": {
    "collapsed": false
   },
   "outputs": [],
   "source": [
    "fig = plt.figure()\n",
    "v_min = np.min(U_num_dyn)\n",
    "v_max = np.max(U_num_dyn)\n",
    "\n",
    "own_levels = np.linspace(v_min,v_max, 11)\n",
    "own_levels = np.round(own_levels, decimals=2)\n",
    "\n",
    "def animate(k):\n",
    "    plt.clf()\n",
    "    ax = fig.add_subplot()\n",
    "    color_plot = plt.contour(rho[0,:,0,0], z[:,0,0,0], U_num_dyn[:,:,k], levels=own_levels, linewidths=2, cmap=\"magma\")\n",
    "    ax.streamplot(rho[0,:,0,0], z[:,0,0,0], E_rho_dyn[:,:,k], E_z_dyn[:,:,k], linewidth=1, cmap=plt.cm.inferno,\n",
    "                  density=3, arrowstyle='->', arrowsize=1.5, color=np.log(np.sqrt(E_rho_dyn[:,:,k]**2 + E_z_dyn[:,:,k]**2)))\n",
    "    ax.plot([0, 0], [-L/2, L/2], color=\"red\")\n",
    "    plt.colorbar(color_plot)\n",
    "\n",
    "    ax.set_xlabel('$rho$')\n",
    "    ax.set_ylabel('$z$')\n",
    "    ax.set_xlim(-L,L)\n",
    "    ax.set_ylim(-L,L)\n",
    "    ax.set_aspect('equal')\n",
    "\n",
    "ani = animation.FuncAnimation(fig, animate, frames=t.shape[-1], interval=200)\n",
    "ani.save('animation_sin_komplett.gif', writer='Pillow')"
   ]
  },
  {
   "cell_type": "markdown",
   "metadata": {
    "collapsed": false
   },
   "source": [
    "#### Fehlerbetrachtung analytische und numerische Berechnung\n",
    "\n"
   ]
  },
  {
   "cell_type": "code",
   "execution_count": null,
   "metadata": {
    "collapsed": false
   },
   "outputs": [],
   "source": [
    "# U_err = np.abs(U - U_num)\n",
    "U_err = U_num / U"
   ]
  },
  {
   "cell_type": "code",
   "execution_count": null,
   "metadata": {
    "collapsed": false
   },
   "outputs": [],
   "source": [
    "plt.title('Relativer Unterschied zwischen numerischer und analytischer Berechnung')\n",
    "plt.xlabel('$rho$')\n",
    "plt.ylabel('$z$')\n",
    "plt.imshow(U_err)\n",
    "plt.colorbar()"
   ]
  },
  {
   "cell_type": "markdown",
   "metadata": {
    "collapsed": false
   },
   "source": [
    "Es tritt eine enorme Abweichung zwischen numerischer und analytischer Berechnung auf. Größenordnung $10^{12}$. Wir haben leider nicht herausfinden können warum."
   ]
  },
  {
   "cell_type": "markdown",
   "metadata": {
    "collapsed": false
   },
   "source": [
    "***"
   ]
  },
  {
   "cell_type": "markdown",
   "metadata": {
    "collapsed": false
   },
   "source": [
    "## Verallgemeinerung\n",
    "\n",
    "Anregungen mit Hinblick auf Antennen:\n",
    "\n",
    "- Aufweichen der Idealisierungen:\n",
    "  - beliebige Ladungsdichte\n",
    "  - beliebig gekrümmter Leiter, z.B. Kreis\n",
    "  - flacher Leiter, z.B. Kreisscheibe\n",
    "  - massiver Leiter\n",
    "    - rotationssymmetrisch, z.B. Zylinder\n",
    "    - nicht symmetrisch, z.B. Quader\n",
    "- Zeitabhängigkeit\n",
    "  - naiv\n",
    "  - retardiert\n",
    "  - Wie müsste das zugehörige Magnetfeld aussehen?\n",
    "  - Wie gut sind die Maxwellgleichungen erfüllt?\n",
    "\n"
   ]
  },
  {
   "cell_type": "markdown",
   "metadata": {
    "collapsed": false
   },
   "source": [
    "### Massive Antenne\n",
    "\n"
   ]
  },
  {
   "cell_type": "code",
   "execution_count": null,
   "metadata": {
    "collapsed": false
   },
   "outputs": [],
   "source": [
    "N = 2**5 # Quantisierung\n",
    "K = 2    # Kantenlänge in der Breite\n",
    "M = 4    # Kantenlänge in der Tiefe\n",
    "L = 30   # Kantenlänge in der Höhe\n",
    "R = 40   # Kantenlänge des zu betrachtenden Raums"
   ]
  },
  {
   "cell_type": "code",
   "execution_count": null,
   "metadata": {
    "collapsed": false
   },
   "outputs": [],
   "source": [
    "# Definition des Raums\n",
    "x = np.linspace(-R/2, R/2, N)\n",
    "y = np.linspace(-R/2, R/2, 2*N)\n",
    "z = np.linspace(-R/2, R/2, 4*N)"
   ]
  },
  {
   "cell_type": "code",
   "execution_count": null,
   "metadata": {
    "collapsed": false
   },
   "outputs": [],
   "source": [
    "# Definition der Antenne im Raum\n",
    "antenna_x_range = np.logical_and(np.greater(x, -K/2), np.less(x, K/2))\n",
    "antenna_y_range = np.logical_and(np.greater(y, -M/2), np.less(y, M/2))\n",
    "antenna_z_range = np.logical_and(np.greater(z, -L/2), np.less(z, L/2))"
   ]
  },
  {
   "cell_type": "code",
   "execution_count": null,
   "metadata": {
    "collapsed": false
   },
   "outputs": [],
   "source": [
    "# Ladungsverteilung der Antenne\n",
    "def ladung(ladung_x, ladung_y, ladung_z):\n",
    "    #Festlegung, dass die Ladungsverteilung ein Sinus in z-Richtung sein soll\n",
    "    return np.sin(2*np.pi*ladung_z/(np.max(z[antenna_z_range]) - np.min(z[antenna_z_range])))\n",
    "    # return 1\n",
    "    # return ladung_x**2 + ladung_y**2 + ladung_z**2"
   ]
  },
  {
   "cell_type": "code",
   "execution_count": null,
   "metadata": {
    "collapsed": false
   },
   "outputs": [],
   "source": [
    "# leeres Array anlegen, dass die gleiche Größe wie der zu untersuchende Raum hat\n",
    "U = np.empty((len(x), len(y), len(z)))\n",
    "\n",
    "# Berechnung der Ladungsverteilung in der Antenne\n",
    "lmbda_x_y_z = ladung(x[antenna_x_range].reshape(-1, 1, 1), y[antenna_y_range].reshape(1, -1, 1), z[antenna_z_range].reshape(1, 1, -1))\n",
    "\n",
    "# Iteration über jeden Raumpunkt -> spart Speicherverbrauch ein, kostet aber Zeit\n",
    "for x_index, x_val in np.ndenumerate(x):\n",
    "    for y_index, y_val in np.ndenumerate(y):\n",
    "        for z_index, z_val in np.ndenumerate(z):\n",
    "            # Berechnung (x'-x)², (y'-y)² und (z'-z)²\n",
    "            d_x = (x[antenna_x_range] - x_val)**2\n",
    "            d_y = (y[antenna_y_range] - y_val)**2\n",
    "            d_z = (z[antenna_z_range] - z_val)**2\n",
    "            # Berechnung von lmbda / |r'-r|\n",
    "            integrand = lmbda_x_y_z/np.sqrt(d_x.reshape(-1, 1, 1) + d_y.reshape(1, -1, 1) + d_z.reshape(1, 1, -1))\n",
    "            # Speichern des Potentials im Ergebnisarray\n",
    "            U[x_index, y_index, z_index] = np.trapz(np.trapz(np.trapz(integrand)))\n",
    "            # integrand löschen, um Speicher zu leeren\n",
    "            del integrand\n",
    "\n",
    "U = faktor * U\n"
   ]
  },
  {
   "cell_type": "code",
   "execution_count": null,
   "metadata": {
    "collapsed": false
   },
   "outputs": [],
   "source": [
    "# Darstellung der massiven Antenne in der x-y-Ebene, geschnitten bei der Hälfte der Antennenlänge in z-Richtung\n",
    "fig = plt.figure()\n",
    "ax = fig.add_subplot()\n",
    "ax.set_xlabel('$y$')\n",
    "ax.set_ylabel('$x$')\n",
    "cmap = plt.colormaps.get_cmap('viridis')  # viridis is the default colormap for imshow\n",
    "cmap.set_bad(color='red')\n",
    "plt.imshow(U[:,:,len(z)//2], cmap=cmap, extent=[np.min(y), np.max(y), np.min(x), np.max(x)])\n",
    "plt.colorbar()"
   ]
  },
  {
   "cell_type": "code",
   "execution_count": null,
   "metadata": {
    "collapsed": false
   },
   "outputs": [],
   "source": [
    "# Darstellung der massiven Antenne in der x-z-Ebene, geschnitten bei der Hälfte der Antennenlänge in y-Richtung\n",
    "fig = plt.figure()\n",
    "ax = fig.add_subplot()\n",
    "ax.set_xlabel('$z$')\n",
    "ax.set_ylabel('$x$')\n",
    "cmap = plt.colormaps.get_cmap('viridis')  # viridis is the default colormap for imshow\n",
    "cmap.set_bad(color='red')\n",
    "plt.imshow(U[:, len(y)//2,:], cmap=cmap)\n",
    "plt.colorbar()"
   ]
  },
  {
   "cell_type": "code",
   "execution_count": null,
   "metadata": {
    "collapsed": false
   },
   "outputs": [],
   "source": [
    "# Darstellung der massiven Antenne in der y-z-Ebene, geschnitten bei der Hälfte der Antennenlänge in x-Richtung\n",
    "fig = plt.figure()\n",
    "ax = fig.add_subplot()\n",
    "ax.set_xlabel('$z$')\n",
    "ax.set_ylabel('$y$')\n",
    "cmap = plt.colormaps.get_cmap('viridis')  # viridis is the default colormap for imshow\n",
    "cmap.set_bad(color='red')\n",
    "plt.imshow(U[len(x)//2, :, :], cmap=cmap)\n",
    "plt.colorbar()"
   ]
  },
  {
   "cell_type": "code",
   "execution_count": null,
   "metadata": {
    "collapsed": false
   },
   "outputs": [],
   "source": [
    "# Berechnung des Elektrischen Feldes\n",
    "E_x, E_y, E_z = np.gradient(U)\n",
    "E_x = -E_x\n",
    "E_y = -E_y\n",
    "E_z = -E_z"
   ]
  },
  {
   "cell_type": "code",
   "execution_count": null,
   "metadata": {
    "collapsed": false
   },
   "outputs": [],
   "source": [
    "# Subsampling für die Darstellung vom elektrischen Feld in x,y,z\n",
    "subsampling = (8, 8, 16)"
   ]
  },
  {
   "cell_type": "code",
   "execution_count": null,
   "metadata": {
    "collapsed": false
   },
   "outputs": [],
   "source": [
    "U_min = np.min(np.ma.masked_invalid(U))\n",
    "U_max = np.max(np.ma.masked_invalid(U))"
   ]
  },
  {
   "cell_type": "code",
   "execution_count": null,
   "metadata": {
    "collapsed": false
   },
   "outputs": [],
   "source": [
    "potentials = np.linspace(U_min, U_max, 5)\n",
    "colors = [\"red\", \"green\", \"orange\", \"blue\", \"cyan\"]"
   ]
  },
  {
   "cell_type": "code",
   "execution_count": null,
   "metadata": {},
   "outputs": [],
   "source": [
    "def cuboid_data(o, size=(1,1,1)):\n",
    "    # Code von:\n",
    "    # https://stackoverflow.com/a/35978146/4124317\n",
    "    # Achsenausrichtung: x: Breite; y: Tiefe; z: Höhe\n",
    "    # get the length, width, and height\n",
    "    l, w, h = size\n",
    "    x = [[o[0], o[0] + l, o[0] + l, o[0], o[0]],  \n",
    "         [o[0], o[0] + l, o[0] + l, o[0], o[0]],  \n",
    "         [o[0], o[0] + l, o[0] + l, o[0], o[0]],  \n",
    "         [o[0], o[0] + l, o[0] + l, o[0], o[0]]]  \n",
    "    y = [[o[1], o[1], o[1] + w, o[1] + w, o[1]],  \n",
    "         [o[1], o[1], o[1] + w, o[1] + w, o[1]],  \n",
    "         [o[1], o[1], o[1], o[1], o[1]],          \n",
    "         [o[1] + w, o[1] + w, o[1] + w, o[1] + w, o[1] + w]]   \n",
    "    z = [[o[2], o[2], o[2], o[2], o[2]],                       \n",
    "         [o[2] + h, o[2] + h, o[2] + h, o[2] + h, o[2] + h],   \n",
    "         [o[2], o[2], o[2] + h, o[2] + h, o[2]],               \n",
    "         [o[2], o[2], o[2] + h, o[2] + h, o[2]]]               \n",
    "    return np.array(x), np.array(y), np.array(z)\n",
    "\n",
    "def plot_cube_at(pos=(0,0,0), size=(1,1,1), ax=None, **kwargs):\n",
    "    # Plotting a cube element at position pos\n",
    "    if ax:\n",
    "        X, Y, Z = cuboid_data(pos, size)\n",
    "        ax.plot_surface(X, Y, Z, rstride=1, cstride=1, **kwargs)"
   ]
  },
  {
   "cell_type": "code",
   "execution_count": null,
   "metadata": {},
   "outputs": [],
   "source": [
    "fig = plt.figure(figsize=(10, 10))\n",
    "ax = fig.add_subplot(projection=\"3d\")\n",
    "\n",
    "plot_x, plot_y, plot_z = np.meshgrid(x, y, z, indexing=\"ij\")\n",
    "ax.quiver(\n",
    "    plot_x[::subsampling[0], ::subsampling[1], ::subsampling[2]],\n",
    "    plot_y[::subsampling[0], ::subsampling[1], ::subsampling[2]],\n",
    "    plot_z[::subsampling[0], ::subsampling[1], ::subsampling[2]], \n",
    "    E_x[::subsampling[0], ::subsampling[1], ::subsampling[2]],\n",
    "    E_y[::subsampling[0], ::subsampling[1], ::subsampling[2]],\n",
    "    E_z[::subsampling[0], ::subsampling[1], ::subsampling[2]],\n",
    "    length=20/np.max(np.ma.masked_invalid(np.sqrt(E_x**2+E_y**2+E_z**2)))\n",
    ")\n",
    "\n",
    "# Koordinaten für die Ecke unten, vorne, links\n",
    "antenna_lower_x = np.min(x[antenna_x_range])\n",
    "antenna_lower_y = np.min(y[antenna_y_range])\n",
    "antenna_lower_z = np.min(z[antenna_z_range])\n",
    "\n",
    "# Koordinaten für die Ecke oben, hinten, rechts\n",
    "antenna_higher_x = np.max(x[antenna_x_range])\n",
    "antenna_higher_y = np.max(y[antenna_y_range])\n",
    "antenna_higher_z = np.max(z[antenna_z_range])\n",
    "\n",
    "# Antennengröße im Grid (-> simulierte Größe) in x,y,z-Richtung\n",
    "antenna_len_x = antenna_higher_x - antenna_lower_x\n",
    "antenna_len_y = antenna_higher_y - antenna_lower_y\n",
    "antenna_len_z = antenna_higher_z - antenna_lower_z\n",
    "\n",
    "plot_cube_at(pos=(antenna_lower_x, antenna_lower_y, antenna_lower_z), size=(antenna_len_x, antenna_len_y, antenna_len_z), ax=ax)\n",
    "for potential, color in zip(potentials, colors):\n",
    "    U_pos = np.where(np.isclose(U, potential, rtol=1e-2))\n",
    "    ax.scatter(x[U_pos[0]], y[U_pos[1]], z[U_pos[2]], color=color, label=f\"{potential/(np.max(potentials))}\" + r'$ \\cdot U_{max}$')\n",
    "\n",
    "ax.legend()\n",
    "ax.set_xlabel('x')\n",
    "ax.set_ylabel('y')\n",
    "ax.set_zlabel('z')\n",
    "ax.view_init(35, -45, 0)"
   ]
  },
  {
   "cell_type": "code",
   "execution_count": null,
   "metadata": {
    "collapsed": false
   },
   "outputs": [],
   "source": [
    "fig = plt.figure(figsize=(10, 10))\n",
    "ax = fig.add_subplot(projection=\"3d\")\n",
    "plot_x, plot_y, plot_z = np.meshgrid(x, y, z, indexing=\"ij\")\n",
    "\n",
    "ax.quiver(\n",
    "    plot_x[::subsampling[0], ::subsampling[1], ::subsampling[2]],\n",
    "    plot_y[::subsampling[0], ::subsampling[1], ::subsampling[2]],\n",
    "    plot_z[::subsampling[0], ::subsampling[1], ::subsampling[2]], \n",
    "    E_x[::subsampling[0], ::subsampling[1], ::subsampling[2]],\n",
    "    E_y[::subsampling[0], ::subsampling[1], ::subsampling[2]],\n",
    "    E_z[::subsampling[0], ::subsampling[1], ::subsampling[2]],\n",
    "    length=20/np.max(np.ma.masked_invalid(np.sqrt(E_x**2+E_y**2+E_z**2)))\n",
    ")\n",
    "\n",
    "# Koordinaten für die Ecke unten, vorne, links\n",
    "antenna_lower_x = np.min(x[antenna_x_range])\n",
    "antenna_lower_y = np.min(y[antenna_y_range])\n",
    "antenna_lower_z = np.min(z[antenna_z_range])\n",
    "\n",
    "# Koordinaten für die Ecke oben, hinten, rechts\n",
    "antenna_higher_x = np.max(x[antenna_x_range])\n",
    "antenna_higher_y = np.max(y[antenna_y_range])\n",
    "antenna_higher_z = np.max(z[antenna_z_range])\n",
    "\n",
    "# size in x,y,z direction\n",
    "antenna_len_x = antenna_higher_x - antenna_lower_x\n",
    "antenna_len_y = antenna_higher_y - antenna_lower_y\n",
    "antenna_len_z = antenna_higher_z - antenna_lower_z\n",
    "\n",
    "plot_cube_at(pos=(antenna_lower_x, antenna_lower_y, antenna_lower_z), size=(antenna_len_x, antenna_len_y, antenna_len_z), ax=ax)\n",
    "for potential, color in zip(potentials, colors):\n",
    "    U_pos = np.where(np.isclose(U, potential, rtol=1e-2))\n",
    "    ax.scatter(x[U_pos[0]], y[U_pos[1]], z[U_pos[2]], color=color, label=f\"{potential/(np.max(potentials))}\" + r'$ \\cdot U_{max}$')\n",
    "\n",
    "ax.legend()\n",
    "ax.set_xlabel('x')\n",
    "ax.set_ylabel('y')\n",
    "ax.set_zlabel('z')\n",
    "\n",
    "def animate(frame):\n",
    "    elev, azim, roll = 30, -45, 0\n",
    "    if frame <= 360:\n",
    "        elev = (elev + frame) % 360\n",
    "    elif frame <= 360*2:\n",
    "        azim = (azim + frame) % 360\n",
    "    elif frame <= 360*3:\n",
    "        roll = (roll + frame) % 360\n",
    "    ax.view_init(elev, azim, roll)\n",
    "    return fig\n",
    "\n",
    "ani = animation.FuncAnimation(fig, animate, frames=360*3, interval=50)\n",
    "ani.save(\"animation_komplex.gif\", writer=\"Pillow\")"
   ]
  },
  {
   "cell_type": "code",
   "execution_count": null,
   "metadata": {},
   "outputs": [],
   "source": []
  }
 ],
 "metadata": {
  "kernelspec": {
   "argv": [
    "/usr/bin/python3",
    "-m",
    "ipykernel",
    "--HistoryManager.enabled=False",
    "--matplotlib=inline",
    "-c",
    "%config InlineBackend.figure_formats = set(['retina'])\nimport matplotlib; matplotlib.rcParams['figure.figsize'] = (12, 7)",
    "-f",
    "{connection_file}"
   ],
   "display_name": "Python 3 (system-wide)",
   "env": {},
   "language": "python",
   "metadata": {
    "cocalc": {
     "description": "Python 3 programming language",
     "priority": 100,
     "url": "https://www.python.org/"
    }
   },
   "name": "python3",
   "resource_dir": "/ext/jupyter/kernels/python3"
  },
  "language_info": {
   "codemirror_mode": {
    "name": "ipython",
    "version": 3
   },
   "file_extension": ".py",
   "mimetype": "text/x-python",
   "name": "python",
   "nbconvert_exporter": "python",
   "pygments_lexer": "ipython3",
   "version": "3.11.6"
  }
 },
 "nbformat": 4,
 "nbformat_minor": 4
}
